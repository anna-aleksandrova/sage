{
 "cells": [
  {
   "cell_type": "code",
   "execution_count": 1,
   "id": "0ac6aa80-9c11-4366-8b78-ed577d88acff",
   "metadata": {},
   "outputs": [],
   "source": [
    "from itertools import product\n",
    "from sage.matrix.operation_table import OperationTable"
   ]
  },
  {
   "cell_type": "code",
   "execution_count": 2,
   "id": "c2d4cf85-3f2e-4175-acfc-b837e212ebcc",
   "metadata": {
    "scrolled": true
   },
   "outputs": [],
   "source": [
    " def binary_operations(M, filename):\n",
    "    maps = FiniteSetMaps(product(M, repeat = 2), M)\n",
    "\n",
    "    def _f(x, y):\n",
    "        return f((x, y))\n",
    "\n",
    "    with open(filename, \"w\") as file_:\n",
    "        for f in maps:\n",
    "            print(f, file = file_)\n",
    "            print(OperationTable(M, _f, names = \"elements\"), file = file_)\n",
    "\n",
    "binary_operations([1, 2], \"cayleytables2.txt\")\n",
    "binary_operations([1, 2, 3], \"cayleytables3.txt\")"
   ]
  },
  {
   "cell_type": "code",
   "execution_count": 8,
   "id": "6a3251a6-3c27-4111-906e-6d073f8b8b03",
   "metadata": {},
   "outputs": [],
   "source": [
    "def is_associative(M, f):\n",
    "    for a in M:\n",
    "        for b in M:\n",
    "            for c in M:\n",
    "                if f((f((a, b)), c)) == f((a, f((b, c)))):\n",
    "                    pass\n",
    "                else:\n",
    "                    return False, (a, b, c)\n",
    "    return True, None\n",
    "\n",
    "def associativity(M, associative_operations, filename):\n",
    "    binary_operations = FiniteSetMaps(product(M, repeat = 2), M)\n",
    "    with open(filename, \"w\") as file_:\n",
    "        for f in binary_operations:\n",
    "            res0, res1 = is_associative(M, f)\n",
    "            if res0:\n",
    "                associative_operations.append(f)\n",
    "            else:\n",
    "                print(f\"{f} is not associative: the associative property doesn't hold for {res1}\", file = file_)\n",
    "    print(f\"{len(associative_operations)} associative operations on the set {M}.\")\n"
   ]
  },
  {
   "cell_type": "code",
   "execution_count": 9,
   "id": "a352edfe-d6a6-4ddd-b995-7055f33aa134",
   "metadata": {},
   "outputs": [],
   "source": [
    "def is_isomorphism(phi, M1, f1, M2, f2):\n",
    "    for a in M1:\n",
    "        for b in M1:\n",
    "            if phi[f1((a, b)) - 1] == f2((phi[a - 1], phi[b - 1])):\n",
    "                pass\n",
    "            else:\n",
    "                return False\n",
    "    return True\n",
    "\n",
    "def are_isomorphic(M1, f1, M2, f2):\n",
    "    if len(M1) != len(M2):\n",
    "        return False\n",
    "    else:\n",
    "        bijections = Permutations(M1)\n",
    "        for phi in bijections:\n",
    "            if is_isomorphism(phi, M1, f1, M2, f2):\n",
    "                return True\n",
    "        return False\n",
    "\n",
    "def isoclasses(M, filename):\n",
    "    isomorphic_classes = []\n",
    "    for f1 in associative_operations:\n",
    "        for isoclass in isomorphic_classes:\n",
    "            f2 = isoclass[1]\n",
    "            if are_isomorphic(M, f1, M, f2):\n",
    "                isoclass[0] += 1\n",
    "                isoclass.append(f1)\n",
    "                break\n",
    "        else:\n",
    "            isomorphic_classes.append([1, f1])\n",
    "    print(f\"\\n{len(isomorphic_classes)} classes of isomorphic associative operations on the set {M}.\")\n",
    "\n",
    "    with open(filename, \"w\") as file_:\n",
    "        for isoclass in isomorphic_classes:\n",
    "            print(\"-\" * 20 + \"Class of equivalence/isomorphism\" + \"-\" * 20, file = file_)\n",
    "            for operation in isoclass:\n",
    "                print(operation, file = file_)\n"
   ]
  },
  {
   "cell_type": "code",
   "execution_count": 10,
   "id": "ffd1d8ee-a6d0-45aa-92fd-f1f8a6b944b0",
   "metadata": {},
   "outputs": [
    {
     "name": "stdout",
     "output_type": "stream",
     "text": [
      "8 associative operations on the set [1, 2].\n",
      "\n",
      "5 classes of isomorphic associative operations on the set [1, 2].\n"
     ]
    }
   ],
   "source": [
    "M = [1, 2]\n",
    "associative_operations = []\n",
    "associativity(M, associative_operations, \"associativity.txt\")\n",
    "isoclasses(M, \"isoclasses2.txt\")"
   ]
  },
  {
   "cell_type": "code",
   "execution_count": 11,
   "id": "2d508797-985a-4e21-8035-15c473d9174a",
   "metadata": {},
   "outputs": [
    {
     "name": "stdout",
     "output_type": "stream",
     "text": [
      "113 associative operations on the set [1, 2, 3].\n",
      "\n",
      "24 classes of isomorphic associative operations on the set [1, 2, 3].\n"
     ]
    }
   ],
   "source": [
    "M = [1, 2, 3]\n",
    "associative_operations = []\n",
    "associativity(M, associative_operations, \"associativity3.txt\")\n",
    "isoclasses(M, \"isoclasses3.txt\")"
   ]
  },
  {
   "cell_type": "code",
   "execution_count": null,
   "id": "9bf612ee-63f9-4526-b605-3c5da8fab751",
   "metadata": {},
   "outputs": [],
   "source": []
  }
 ],
 "metadata": {
  "kernelspec": {
   "display_name": "SageMath 10.4",
   "language": "sage",
   "name": "sagemath"
  },
  "language_info": {
   "codemirror_mode": {
    "name": "ipython",
    "version": 3
   },
   "file_extension": ".py",
   "mimetype": "text/x-python",
   "name": "python",
   "nbconvert_exporter": "python",
   "pygments_lexer": "ipython3",
   "version": "3.11.10"
  }
 },
 "nbformat": 4,
 "nbformat_minor": 5
}
