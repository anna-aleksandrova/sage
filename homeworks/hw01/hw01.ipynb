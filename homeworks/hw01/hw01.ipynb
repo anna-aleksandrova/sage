{
 "cells": [
  {
   "cell_type": "code",
   "execution_count": 1,
   "id": "5a19a449-868d-4d6f-8c3b-55c5f3af05ae",
   "metadata": {},
   "outputs": [
    {
     "data": {
      "text/plain": [
       "42"
      ]
     },
     "execution_count": 1,
     "metadata": {},
     "output_type": "execute_result"
    }
   ],
   "source": [
    "25 + 17"
   ]
  },
  {
   "cell_type": "code",
   "execution_count": 2,
   "id": "197eb193-1ce6-4ef0-9107-76dff6c13151",
   "metadata": {},
   "outputs": [
    {
     "data": {
      "text/plain": [
       "63"
      ]
     },
     "execution_count": 2,
     "metadata": {},
     "output_type": "execute_result"
    }
   ],
   "source": [
    "7 * 9"
   ]
  },
  {
   "cell_type": "code",
   "execution_count": 3,
   "id": "b79f0bb1-30f2-4907-892a-191a10893391",
   "metadata": {},
   "outputs": [
    {
     "data": {
      "text/plain": [
       "12"
      ]
     },
     "execution_count": 3,
     "metadata": {},
     "output_type": "execute_result"
    }
   ],
   "source": [
    "144 / 12"
   ]
  },
  {
   "cell_type": "code",
   "execution_count": 4,
   "id": "3dbb115a-a3f3-406c-ac91-004a10e4d1b7",
   "metadata": {},
   "outputs": [
    {
     "data": {
      "text/plain": [
       "2"
      ]
     },
     "execution_count": 4,
     "metadata": {},
     "output_type": "execute_result"
    }
   ],
   "source": [
    "156 % 7"
   ]
  },
  {
   "cell_type": "code",
   "execution_count": 5,
   "id": "4bcc578a-5a71-4318-8a1a-39bcbd9b795e",
   "metadata": {},
   "outputs": [
    {
     "data": {
      "text/plain": [
       "22"
      ]
     },
     "execution_count": 5,
     "metadata": {},
     "output_type": "execute_result"
    }
   ],
   "source": [
    "156 // 7"
   ]
  },
  {
   "cell_type": "code",
   "execution_count": 6,
   "id": "18a76286-4700-41ca-a33e-20a44bba5437",
   "metadata": {},
   "outputs": [
    {
     "data": {
      "text/plain": [
       "2^3 * 11 * 23"
      ]
     },
     "execution_count": 6,
     "metadata": {},
     "output_type": "execute_result"
    }
   ],
   "source": [
    "factor(2024)"
   ]
  },
  {
   "cell_type": "code",
   "execution_count": 7,
   "id": "692eef17-6af3-40f1-812c-b096c24f158a",
   "metadata": {},
   "outputs": [
    {
     "data": {
      "text/plain": [
       "125"
      ]
     },
     "execution_count": 7,
     "metadata": {},
     "output_type": "execute_result"
    }
   ],
   "source": [
    "5 ** 3"
   ]
  },
  {
   "cell_type": "code",
   "execution_count": 8,
   "id": "26684023-b230-4236-ad11-9c3650bdd4c2",
   "metadata": {},
   "outputs": [
    {
     "data": {
      "text/plain": [
       "7"
      ]
     },
     "execution_count": 8,
     "metadata": {},
     "output_type": "execute_result"
    }
   ],
   "source": [
    "sqrt(49)"
   ]
  },
  {
   "cell_type": "code",
   "execution_count": 9,
   "id": "b62e2f8e-5a65-4c3b-8d1f-eda6e5f62624",
   "metadata": {},
   "outputs": [
    {
     "data": {
      "text/plain": [
       "1"
      ]
     },
     "execution_count": 9,
     "metadata": {},
     "output_type": "execute_result"
    }
   ],
   "source": [
    "cos(0)"
   ]
  },
  {
   "cell_type": "code",
   "execution_count": 10,
   "id": "3abba099-56ea-408e-af04-1bc3ac9b4d24",
   "metadata": {},
   "outputs": [
    {
     "data": {
      "text/plain": [
       "1.00000000000000"
      ]
     },
     "execution_count": 10,
     "metadata": {},
     "output_type": "execute_result"
    }
   ],
   "source": [
    "RR(cos(0))"
   ]
  },
  {
   "cell_type": "code",
   "execution_count": 11,
   "id": "a1b71a35-dfc6-4a54-b470-8cc04dd1f090",
   "metadata": {},
   "outputs": [
    {
     "data": {
      "text/plain": [
       "0"
      ]
     },
     "execution_count": 11,
     "metadata": {},
     "output_type": "execute_result"
    }
   ],
   "source": [
    "sin(pi)"
   ]
  },
  {
   "cell_type": "code",
   "execution_count": 12,
   "id": "801c94de-7fca-43dd-94e5-57e4a945dfb9",
   "metadata": {},
   "outputs": [
    {
     "data": {
      "text/plain": [
       "0.000000000000000"
      ]
     },
     "execution_count": 12,
     "metadata": {},
     "output_type": "execute_result"
    }
   ],
   "source": [
    "RR(sin(pi))"
   ]
  },
  {
   "cell_type": "code",
   "execution_count": 13,
   "id": "0b3a7aff-41f8-425e-9e74-3b3efdac8519",
   "metadata": {},
   "outputs": [
    {
     "data": {
      "text/plain": [
       "e^2"
      ]
     },
     "execution_count": 13,
     "metadata": {},
     "output_type": "execute_result"
    }
   ],
   "source": [
    "exp(2)"
   ]
  },
  {
   "cell_type": "code",
   "execution_count": 14,
   "id": "62f45b54-7102-4bc7-9b8c-e6b4d45c852f",
   "metadata": {},
   "outputs": [
    {
     "data": {
      "text/plain": [
       "7.38905609893065"
      ]
     },
     "execution_count": 14,
     "metadata": {},
     "output_type": "execute_result"
    }
   ],
   "source": [
    "RR(exp(2))"
   ]
  },
  {
   "cell_type": "code",
   "execution_count": 15,
   "id": "2ba92a1e-b1b3-46f3-bc8a-e587ba6b8bc6",
   "metadata": {},
   "outputs": [
    {
     "data": {
      "text/plain": [
       "1"
      ]
     },
     "execution_count": 15,
     "metadata": {},
     "output_type": "execute_result"
    }
   ],
   "source": [
    "tan(pi/4)"
   ]
  },
  {
   "cell_type": "code",
   "execution_count": 16,
   "id": "4eba92f9-a69c-4977-8dd6-f4b8df8df214",
   "metadata": {},
   "outputs": [
    {
     "data": {
      "text/plain": [
       "1.00000000000000"
      ]
     },
     "execution_count": 16,
     "metadata": {},
     "output_type": "execute_result"
    }
   ],
   "source": [
    "RR(tan(pi/4))"
   ]
  },
  {
   "cell_type": "code",
   "execution_count": 17,
   "id": "35351fbb-17fb-4b81-8591-e8ec4e8a5270",
   "metadata": {},
   "outputs": [
    {
     "data": {
      "text/plain": [
       "1/2*pi"
      ]
     },
     "execution_count": 17,
     "metadata": {},
     "output_type": "execute_result"
    }
   ],
   "source": [
    "arcsin(1)"
   ]
  },
  {
   "cell_type": "code",
   "execution_count": 18,
   "id": "f74fb0d3-2a59-4a25-9ce6-7688488fad14",
   "metadata": {},
   "outputs": [
    {
     "data": {
      "text/plain": [
       "1.57079632679490"
      ]
     },
     "execution_count": 18,
     "metadata": {},
     "output_type": "execute_result"
    }
   ],
   "source": [
    "RR(arcsin(1))"
   ]
  },
  {
   "cell_type": "code",
   "execution_count": 19,
   "id": "86e9d75b-2b59-404c-bcb4-97d292aa1c5c",
   "metadata": {},
   "outputs": [
    {
     "data": {
      "text/plain": [
       "(25, 150)"
      ]
     },
     "execution_count": 19,
     "metadata": {},
     "output_type": "execute_result"
    }
   ],
   "source": [
    "var('x', 'y')\n",
    "x = 10\n",
    "y = 15\n",
    "s = x + y\n",
    "product = x * y\n",
    "s, product"
   ]
  },
  {
   "cell_type": "code",
   "execution_count": 20,
   "id": "481d1602-c1ac-4026-bbfe-275f6c6e07a2",
   "metadata": {},
   "outputs": [
    {
     "data": {
      "text/plain": [
       "0"
      ]
     },
     "execution_count": 20,
     "metadata": {},
     "output_type": "execute_result"
    }
   ],
   "source": [
    "var('z')\n",
    "z = 1\n",
    "3 * z^2 + 2 * z - 5"
   ]
  },
  {
   "cell_type": "code",
   "execution_count": 21,
   "id": "e6718e98-943d-45cd-bb52-383d279e7da1",
   "metadata": {},
   "outputs": [
    {
     "data": {
      "text/plain": [
       "5*x"
      ]
     },
     "execution_count": 21,
     "metadata": {},
     "output_type": "execute_result"
    }
   ],
   "source": [
    "var('x')\n",
    "simplify(2 * x^2 + 4 * x - 2 * x^2 + x)"
   ]
  },
  {
   "cell_type": "code",
   "execution_count": 22,
   "id": "436c74a9-e4a6-43fc-b1cd-a8bbad6f6f02",
   "metadata": {},
   "outputs": [
    {
     "data": {
      "text/plain": [
       "x^2 - x - 6"
      ]
     },
     "execution_count": 22,
     "metadata": {},
     "output_type": "execute_result"
    }
   ],
   "source": [
    "var('x')\n",
    "expand((x + 2) * (x - 3))"
   ]
  },
  {
   "cell_type": "code",
   "execution_count": 23,
   "id": "b3c1d730-5b05-4277-8073-0b40e723b9ea",
   "metadata": {},
   "outputs": [
    {
     "data": {
      "text/plain": [
       "(x - 4)*(x - 5)"
      ]
     },
     "execution_count": 23,
     "metadata": {},
     "output_type": "execute_result"
    }
   ],
   "source": [
    "factor(x^2-9*x+20)"
   ]
  },
  {
   "cell_type": "code",
   "execution_count": 24,
   "id": "e29102bb-4a61-4d75-b4c1-6b6c746fea62",
   "metadata": {},
   "outputs": [
    {
     "data": {
      "text/plain": [
       "[x == 3, x == 1]"
      ]
     },
     "execution_count": 24,
     "metadata": {},
     "output_type": "execute_result"
    }
   ],
   "source": [
    "solve(x^2 - 4*x +3, x)"
   ]
  },
  {
   "cell_type": "code",
   "execution_count": 25,
   "id": "cab11c13-25b8-4201-8459-c7666187e642",
   "metadata": {},
   "outputs": [
    {
     "data": {
      "image/png": "[encoded data removed]",
      "text/plain": [
       "Graphics object consisting of 1 graphics primitive"
      ]
     },
     "execution_count": 25,
     "metadata": {},
     "output_type": "execute_result"
    }
   ],
   "source": [
    "plot(x^2-4*x+3, (x, -5, 5))"
   ]
  },
  {
   "cell_type": "code",
   "execution_count": 26,
   "id": "9c91e3ad-72a3-4d40-aced-3ab05dad88d7",
   "metadata": {},
   "outputs": [
    {
     "data": {
      "text/plain": [
       "3*x^2 + 10*x - 2"
      ]
     },
     "execution_count": 26,
     "metadata": {},
     "output_type": "execute_result"
    }
   ],
   "source": [
    "derivative(x^3 + 5*x^2-2*x+7, x)"
   ]
  },
  {
   "cell_type": "code",
   "execution_count": 27,
   "id": "62ee3f92-6689-4fc6-9662-d3a5f880afcb",
   "metadata": {},
   "outputs": [
    {
     "data": {
      "text/plain": [
       "1/2*x^4 - 1/3*x^3 + 5*x"
      ]
     },
     "execution_count": 27,
     "metadata": {},
     "output_type": "execute_result"
    }
   ],
   "source": [
    "integral(2*x^3-x^2+5, x)"
   ]
  },
  {
   "cell_type": "code",
   "execution_count": 28,
   "id": "fd000fa6-398a-49ea-9dcc-e3564099b0fd",
   "metadata": {},
   "outputs": [
    {
     "data": {
      "text/plain": [
       "21"
      ]
     },
     "execution_count": 28,
     "metadata": {},
     "output_type": "execute_result"
    }
   ],
   "source": [
    "integral(x^2, x, 1, 4)"
   ]
  },
  {
   "cell_type": "code",
   "execution_count": 29,
   "id": "abfc793b-d9c1-47ea-9bdb-94924d4172ea",
   "metadata": {},
   "outputs": [
    {
     "data": {
      "text/plain": [
       "[1 2]\n",
       "[3 4]"
      ]
     },
     "execution_count": 29,
     "metadata": {},
     "output_type": "execute_result"
    }
   ],
   "source": [
    "M = matrix(QQ, [\n",
    "    [1, 2],\n",
    "    [3, 4]\n",
    "])\n",
    "M"
   ]
  },
  {
   "cell_type": "code",
   "execution_count": 30,
   "id": "b0a33093-103f-4faa-ba83-a2a129c459b3",
   "metadata": {},
   "outputs": [
    {
     "data": {
      "text/plain": [
       "[1 3]\n",
       "[2 4]"
      ]
     },
     "execution_count": 30,
     "metadata": {},
     "output_type": "execute_result"
    }
   ],
   "source": [
    "M_T = transpose(M)\n",
    "M_T"
   ]
  },
  {
   "cell_type": "code",
   "execution_count": 31,
   "id": "e71182ac-33f9-4818-ad13-314dafe86052",
   "metadata": {},
   "outputs": [
    {
     "data": {
      "text/plain": [
       "-2"
      ]
     },
     "execution_count": 31,
     "metadata": {},
     "output_type": "execute_result"
    }
   ],
   "source": [
    "det(M)"
   ]
  },
  {
   "cell_type": "code",
   "execution_count": 32,
   "id": "0530e2c5-2018-48cd-8a63-2c6f37bc9dbf",
   "metadata": {},
   "outputs": [
    {
     "data": {
      "text/plain": [
       "[-0.3722813232690144?, 5.372281323269015?]"
      ]
     },
     "execution_count": 32,
     "metadata": {},
     "output_type": "execute_result"
    }
   ],
   "source": [
    "M.eigenvalues()"
   ]
  },
  {
   "cell_type": "code",
   "execution_count": 33,
   "id": "5f9dba9b-e5af-45bc-9f21-e7578fb8c7eb",
   "metadata": {},
   "outputs": [
    {
     "data": {
      "text/plain": [
       "[[x == 1, y == 2]]"
      ]
     },
     "execution_count": 33,
     "metadata": {},
     "output_type": "execute_result"
    }
   ],
   "source": [
    "var('y')\n",
    "solve(\n",
    "    [x + y == 3,\n",
    "    2*x - y == 0],\n",
    "    x, y\n",
    ")"
   ]
  },
  {
   "cell_type": "code",
   "execution_count": 34,
   "id": "e5be4a56-d81e-48e0-85e1-7484d2a590fe",
   "metadata": {},
   "outputs": [
    {
     "name": "stdout",
     "output_type": "stream",
     "text": [
      "n is equal to 0.\n"
     ]
    }
   ],
   "source": [
    "n = 0\n",
    "if n > 0:\n",
    "    print(\"n is greater than 0.\")\n",
    "elif n < 0:\n",
    "    print(\"n is less than 0.\")\n",
    "else:\n",
    "    print(\"n is equal to 0.\")"
   ]
  },
  {
   "cell_type": "code",
   "execution_count": 35,
   "id": "decb27f3-eaf3-48ee-a63a-ec217c25f55d",
   "metadata": {},
   "outputs": [
    {
     "name": "stdout",
     "output_type": "stream",
     "text": [
      "1\n",
      "2\n",
      "3\n",
      "4\n",
      "5\n",
      "6\n",
      "7\n",
      "8\n",
      "9\n",
      "10\n"
     ]
    }
   ],
   "source": [
    "for i in range(10):\n",
    "    print(i+1)"
   ]
  },
  {
   "cell_type": "code",
   "execution_count": 36,
   "id": "85a47528-71e1-41af-8256-4baaac7de4f6",
   "metadata": {},
   "outputs": [
    {
     "data": {
      "text/plain": [
       "66"
      ]
     },
     "execution_count": 36,
     "metadata": {},
     "output_type": "execute_result"
    }
   ],
   "source": [
    "def f(x):\n",
    "    return 3 * x^2 - 2 * x + 1\n",
    "f(5)"
   ]
  },
  {
   "cell_type": "code",
   "execution_count": 37,
   "id": "8c40ade7-a86e-4ccb-a755-ae3c4ac40f5c",
   "metadata": {},
   "outputs": [
    {
     "data": {
      "image/png": "[encoded data removed]",
      "text/plain": [
       "Graphics object consisting of 2 graphics primitives"
      ]
     },
     "execution_count": 37,
     "metadata": {},
     "output_type": "execute_result"
    }
   ],
   "source": [
    "plot(x^2, (x, -3, 3)) + plot(-x^2 + 5, (-3, 3))"
   ]
  },
  {
   "cell_type": "code",
   "execution_count": null,
   "id": "c9ba14f0-7536-4f1e-8caa-9f4e1109a1d8",
   "metadata": {},
   "outputs": [],
   "source": []
  }
 ],
 "metadata": {
  "kernelspec": {
   "display_name": "SageMath 10.4",
   "language": "sage",
   "name": "sagemath"
  },
  "language_info": {
   "codemirror_mode": {
    "name": "ipython",
    "version": 3
   },
   "file_extension": ".py",
   "mimetype": "text/x-python",
   "name": "python",
   "nbconvert_exporter": "python",
   "pygments_lexer": "ipython3",
   "version": "3.11.10"
  }
 },
 "nbformat": 4,
 "nbformat_minor": 5
}
