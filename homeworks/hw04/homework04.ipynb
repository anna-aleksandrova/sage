{
 "cells": [
  {
   "cell_type": "code",
   "execution_count": 2,
   "id": "8776b190-b73e-49b0-9ebf-9429804659fc",
   "metadata": {},
   "outputs": [],
   "source": [
    "import time"
   ]
  },
  {
   "cell_type": "code",
   "execution_count": 61,
   "id": "33af7f69-f639-4724-bf77-e5636201837f",
   "metadata": {},
   "outputs": [
    {
     "name": "stdout",
     "output_type": "stream",
     "text": [
      "Elapsed time: 435.7190945148468\n"
     ]
    }
   ],
   "source": [
    "def not_min(gen_set, min_gen_sets):\n",
    "    for el in min_gen_sets:\n",
    "        if el.issubset(gen_set):\n",
    "            return True\n",
    "    else:\n",
    "        return False\n",
    "\n",
    "def minimal_generating_sets(G):\n",
    "    \"\"\"Returns all minimal generating subsets of a finite group.\n",
    "    \"\"\"\n",
    "    assert G.is_finite()\n",
    "    if G.order() == 1:\n",
    "        return G\n",
    "    cyclic = False\n",
    "    min_gen_sets = []\n",
    "    for i in range(1, G.cardinality()):\n",
    "        for subset in Subsets(G, i):\n",
    "            if not_min(subset, min_gen_sets):\n",
    "                continue\n",
    "            H = G.subgroup(subset)    \n",
    "            if H == G and i == 1:\n",
    "                cyclic = True\n",
    "                break\n",
    "            elif H == G:\n",
    "                min_gen_sets.append(subset)\n",
    "            else:\n",
    "                pass\n",
    "        if cyclic:\n",
    "            for g in Subsets(G, 1):\n",
    "                if G.subgroup(g) == G:\n",
    "                    min_gen_sets.append(g)\n",
    "            break\n",
    "    return min_gen_sets\n",
    "\n",
    "start = time.time()\n",
    "G = SymmetricGroup(4)\n",
    "needed = minimal_generating_sets(G)\n",
    "print(f\"Elapsed time: {time.time() - start}\")\n",
    "with open(\"minimal_generating_sets.txt\", \"w\") as f:\n",
    "    print(G, file = f)\n",
    "    for min_gen_set in needed:\n",
    "        print(min_gen_set, file = f)"
   ]
  },
  {
   "cell_type": "code",
   "execution_count": 164,
   "id": "0b6f8e3c-0453-4247-be21-a02270e91259",
   "metadata": {},
   "outputs": [],
   "source": [
    "def write_subgroups(G, f):\n",
    "    print(G, file = f)\n",
    "    for el in G.subgroups():\n",
    "        print(el, file = f)\n",
    "    print(\"\", file = f)\n",
    "    \n",
    "with open(\"task2.txt\", \"w\") as f:\n",
    "    write_subgroups(SymmetricGroup(4), f)\n",
    "    write_subgroups(AlternatingGroup(4), f)\n",
    "    write_subgroups(SymmetricGroup(5), f)\n",
    "    write_subgroups(AlternatingGroup(5), f)"
   ]
  },
  {
   "cell_type": "code",
   "execution_count": 162,
   "id": "58a10557-1ba2-4436-af6e-dcc53e7fb35e",
   "metadata": {},
   "outputs": [
    {
     "name": "stdout",
     "output_type": "stream",
     "text": [
      "() is even : True\n",
      "(1,2) is even : False\n",
      "Order of group <()> : 1\n",
      "<()> == S2 : False\n",
      "<()> == A2 : True\n",
      "Order of group <(1,2)> : 2\n",
      "<(1,2)> == S2 : True\n",
      "<(1,2)> == A2 : False\n",
      "\n",
      "(1,2) is even : False\n",
      "(1,2,4) is even : True\n",
      "Order of group <(1,2)> : 2\n",
      "<(1,2)> == S4 : False\n",
      "<(1,2)> == A4 : False\n",
      "Order of group <(1,2,4)> : 3\n",
      "<(1,2,4)> == S4 : False\n",
      "<(1,2,4)> == A4 : False\n"
     ]
    }
   ],
   "source": [
    "def task3(n):\n",
    "    G = SymmetricGroup(n)\n",
    "    temp = factorial(n)\n",
    "    g1 = G[randrange(temp)]\n",
    "    g2 = G[randrange(temp)]\n",
    "    print(f\"{g1} is even : {Permutation(g1).is_even()}\")\n",
    "    print(f\"{g2} is even : {Permutation(g2).is_even()}\")\n",
    "    H1 = G.subgroup([g1])\n",
    "    H2 = G.subgroup([g2])\n",
    "    print(f\"Order of group <{g1}> : {H1.order()}\")\n",
    "    print(f\"<{g1}> == S{n} : {H1 == SymmetricGroup(n)}\")\n",
    "    print(f\"<{g1}> == A{n} : {H1.structure_description() == AlternatingGroup(n).structure_description()}\")\n",
    "    print(f\"Order of group <{g2}> : {H2.order()}\")\n",
    "    print(f\"<{g2}> == S{n} : {H2 == SymmetricGroup(n)}\")\n",
    "    print(f\"<{g2}> == A{n} : {H2.structure_description() == AlternatingGroup(n).structure_description()}\")\n",
    "\n",
    "task3(2)\n",
    "print(\"\")\n",
    "task3(4)"
   ]
  },
  {
   "cell_type": "code",
   "execution_count": 150,
   "id": "4aee4d67-24e8-419b-aec4-5d41219e9328",
   "metadata": {},
   "outputs": [
    {
     "name": "stdout",
     "output_type": "stream",
     "text": [
      "No subgroups of order 40 in (Symmetric group of order 5! as a permutation group), where 40 | 120.\n",
      "No subgroups of order 30 in (Symmetric group of order 5! as a permutation group), where 30 | 120.\n",
      "No subgroups of order 15 in (Symmetric group of order 5! as a permutation group), where 15 | 120.\n"
     ]
    }
   ],
   "source": [
    "G = SymmetricGroup(5)\n",
    "orders = [el.order() for el in G.subgroups()]\n",
    "G_order = G.order()\n",
    "temp = set(divisors(G_order)).difference(set(orders))\n",
    "for div in temp:\n",
    "    print(f\"No subgroups of order {div} in ({G}), where {div} | {G_order}.\")"
   ]
  }
 ],
 "metadata": {
  "kernelspec": {
   "display_name": "SageMath 10.4",
   "language": "sage",
   "name": "sagemath"
  },
  "language_info": {
   "codemirror_mode": {
    "name": "ipython",
    "version": 3
   },
   "file_extension": ".py",
   "mimetype": "text/x-python",
   "name": "python",
   "nbconvert_exporter": "python",
   "pygments_lexer": "ipython3",
   "version": "3.11.10"
  }
 },
 "nbformat": 4,
 "nbformat_minor": 5
}
