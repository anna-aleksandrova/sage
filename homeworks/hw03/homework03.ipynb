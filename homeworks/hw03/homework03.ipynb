{
 "cells": [
  {
   "cell_type": "code",
   "execution_count": 2,
   "id": "26f44b27-a631-455e-aa63-5445025b2452",
   "metadata": {},
   "outputs": [],
   "source": [
    "from sage.matrix.operation_table import OperationTable\n",
    "from sage.arith.functions import LCM_list\n",
    "import time"
   ]
  },
  {
   "cell_type": "code",
   "execution_count": 24,
   "id": "59845919-e478-404d-acc0-4f26ec0871a6",
   "metadata": {
    "scrolled": true
   },
   "outputs": [],
   "source": [
    "G1 = DihedralGroup(10)\n",
    "G2 = CyclicPermutationGroup(16)\n",
    "G3 = AlternatingGroup(5)\n",
    "G4 = SL(2, Integers(3))\n",
    "groups = {\n",
    "    G1 : \"D_10\",\n",
    "    G2 : \"Z_16\",\n",
    "    G3 : \"A_5\",\n",
    "    G4 : \"SL(2, Z3)\"\n",
    "}\n",
    "\n",
    "with open(\"task1.txt\", \"w\") as f:\n",
    "    for group in groups.keys():\n",
    "        print(f\"Group: {groups[group]}\", file = f)\n",
    "        print(OperationTable(group, operator.mul), file = f)\n",
    "        print(f\"Group order: {group.cardinality()}\", file = f)\n",
    "        print(f\"The group is abelian: {group.is_abelian()}\", file = f)\n",
    "        print(\"\\n\", file = f)\n",
    "    print(f\"D12 is isomorphic to SL(2, Z3): {G4.is_isomorphic(DihedralGroup(12))}\", file = f)"
   ]
  },
  {
   "cell_type": "code",
   "execution_count": 3,
   "id": "5570b4cc-67d3-4868-9ebb-18fc5bde70ea",
   "metadata": {},
   "outputs": [
    {
     "name": "stdout",
     "output_type": "stream",
     "text": [
      "Elapsed time: 6179.146168231964\n",
      "True\n"
     ]
    }
   ],
   "source": [
    "def length_amount(partition):\n",
    "    \"\"\"The amount of cycles with length <number>, \n",
    "    where <number> is an element from <partition>.\n",
    "    \"\"\"\n",
    "    counter = 0\n",
    "    current_length = partition[0]\n",
    "    for length in partition:\n",
    "        if length != current_length:\n",
    "            current_length = length\n",
    "            yield counter\n",
    "            counter = 1\n",
    "        else:\n",
    "            counter += 1\n",
    "    yield counter\n",
    "\n",
    "factorials = {0: 1}\n",
    "res = 1\n",
    "for i in range(1, 101):\n",
    "    res *= i\n",
    "    factorials[i] = res\n",
    "    \n",
    "def number(partition, n):\n",
    "    \"\"\"The number of permutations from S_n with <partition> cycle type.\n",
    "    \"\"\"\n",
    "    global factorials\n",
    "    res = 1\n",
    "    for length in partition:\n",
    "        res *= factorials[n] / factorials[n - length] / length\n",
    "        n -= length\n",
    "    for amount in length_amount(partition):\n",
    "        if amount == 1:\n",
    "            pass\n",
    "        else:\n",
    "            res /= factorials[amount]\n",
    "    return res\n",
    "\n",
    "def order_amount(n):\n",
    "    \"\"\"The number of elements of every possible order from S_n.\n",
    "    \"\"\"\n",
    "    order_amount = {}\n",
    "    unique_partitions = Partitions(n)\n",
    "    for partition in unique_partitions:\n",
    "        ord_ = LCM_list(partition)\n",
    "        if ord_ not in order_amount:\n",
    "            order_amount[ord_] = number(partition, n)\n",
    "        else:\n",
    "            order_amount[ord_] += number(partition, n)\n",
    "    keys = list(order_amount.keys())\n",
    "    keys.sort()\n",
    "    return {i:order_amount[i] for i in keys}\n",
    "\n",
    "start = time.time()\n",
    "n = 100\n",
    "with open(f\"orders_s{n}.txt\", \"w\") as f:\n",
    "    counter = 0\n",
    "    for order, amount in order_amount(n).items():\n",
    "        print(f\"Order: {order}, number of elements: {amount}\", file = f)\n",
    "        counter += amount\n",
    "print(f\"Elapsed time: {time.time() - start}\")\n",
    "print(counter == factorial(n))\n"
   ]
  },
  {
   "cell_type": "code",
   "execution_count": 88,
   "id": "c3a3241b-1422-4569-bcce-bb475cbba7e4",
   "metadata": {},
   "outputs": [
    {
     "name": "stdout",
     "output_type": "stream",
     "text": [
      "Elapsed time: 4547.163512706757\n",
      "True\n"
     ]
    }
   ],
   "source": [
    "def is_even(partition):\n",
    "    \"\"\"Defines whether a permutation with the cycle type\n",
    "    represented by <partition> is even.\n",
    "    \"\"\"\n",
    "    counter = 0\n",
    "    for length in partition:\n",
    "        if length % 2 == 1:\n",
    "            pass\n",
    "        else:\n",
    "            counter += 1\n",
    "    if counter % 2 == 0:\n",
    "        return True\n",
    "    else:\n",
    "        return False\n",
    "\n",
    "def order_amount(n):\n",
    "    \"\"\"The number of elements of every possible order from A_n.\n",
    "    \"\"\"\n",
    "    order_amount = {}\n",
    "    unique_partitions = Partitions(n)\n",
    "    for partition in unique_partitions:\n",
    "        if not is_even(partition):\n",
    "            continue\n",
    "        else:\n",
    "            ord_ = LCM_list(partition)\n",
    "            if ord_ not in order_amount:\n",
    "                order_amount[ord_] = number(partition, n)\n",
    "            else:\n",
    "                order_amount[ord_] += number(partition, n)\n",
    "    keys = list(order_amount.keys())\n",
    "    keys.sort()\n",
    "    return {i:order_amount[i] for i in keys}\n",
    "\n",
    "n = 100\n",
    "start = time.time()\n",
    "with open(f\"orders_a{n}.txt\", \"w\") as f:\n",
    "    counter = 0\n",
    "    for order, amount in order_amount(n).items():\n",
    "        print(f\"Order: {order}, number of elements: {amount}\", file = f)\n",
    "        counter += amount\n",
    "print(f\"Elapsed time: {time.time() - start}\")\n",
    "print(counter == factorial(n) / 2)\n"
   ]
  },
  {
   "cell_type": "code",
   "execution_count": 40,
   "id": "9d86c5f3-1685-4adb-90be-e259d6cbe35a",
   "metadata": {},
   "outputs": [
    {
     "name": "stdout",
     "output_type": "stream",
     "text": [
      "Elapsed time: 5.34474515914917\n"
     ]
    }
   ],
   "source": [
    "def exists_naive(k, n):\n",
    "    \"\"\"Defines whether there exists an element of order <k> in S_n.\n",
    "    Complexity : O(exp(pi * sqrt(2 * n / 3))).\n",
    "    \"\"\"\n",
    "    if factorial(n) % k != 0:\n",
    "        return False, None\n",
    "    partitions = Partitions(n)\n",
    "    for partition in partitions:\n",
    "        if LCM_list(partition) != k:\n",
    "            continue\n",
    "        else:\n",
    "            return True, partition\n",
    "    return False, None\n",
    "\n",
    "def correctness(n):\n",
    "    \"\"\"Checks the existence of an element of order <k> in S_n\n",
    "    for k from {1, ..., n!}\n",
    "    \"\"\"\n",
    "    start = time.time()\n",
    "    with open(f\"orders_s{n}_naive.txt\", \"w\") as f:\n",
    "        for k in range(1, factorial(n) + 1):\n",
    "                res = exists_naive(k, n)\n",
    "                if not res[0]:\n",
    "                    print(f\"k = {k}, exists: False\", file = f)\n",
    "                else:\n",
    "                    print(f\"k = {k}, exists with the cycle type : {res[1]}\", file = f)\n",
    "    print(f\"Elapsed time: {time.time() - start}\")\n",
    "correctness(10)"
   ]
  },
  {
   "cell_type": "code",
   "execution_count": 3,
   "id": "b9338a44-670f-479f-9ce3-278e856b5e96",
   "metadata": {},
   "outputs": [
    {
     "name": "stdout",
     "output_type": "stream",
     "text": [
      "Elapsed time: 5.245164632797241\n"
     ]
    }
   ],
   "source": [
    "def exists(k, n):\n",
    "    \"\"\"Defines whether there exists an element of order <k> in S_n.\n",
    "    Complexity : O(2^n).\n",
    "    \"\"\"\n",
    "    if factorial(n) % k != 0:\n",
    "        return False, None\n",
    "    divs = iter(divisors(k))\n",
    "    possible_lengths = []\n",
    "    for length in divs:\n",
    "        if sum(possible_lengths) > n:\n",
    "            break\n",
    "        elif length > n:\n",
    "            break\n",
    "        else:\n",
    "            possible_lengths += [length]\n",
    "    candidates = iter(Subsets(possible_lengths))\n",
    "    for candidate in candidates:\n",
    "        if sum(candidate) > n:\n",
    "            continue\n",
    "        if LCM_list(candidate) != k:\n",
    "            continue\n",
    "        else:\n",
    "            return True, candidate\n",
    "    return False, None\n",
    "\n",
    "def correctness(n):\n",
    "    \"\"\"Checks the existence of an element of order <k> in S_n\n",
    "    for k from {1, ..., n!}\n",
    "    \"\"\"\n",
    "    start = time.time()\n",
    "    with open(f\"orders_s{n}.txt\", \"w\") as f:\n",
    "        print(\"Cycles with length 1 are omitted in cycle types.\", file = f)\n",
    "        print(f\"n = {n}\", file = f)\n",
    "        for k in range(1, factorial(n) + 1):\n",
    "            res = exists(k, n)\n",
    "            if not res[0]:\n",
    "                print(f\"k = {k}, exists: False\", file = f)\n",
    "            else:\n",
    "                print(f\"k = {k}, exists with the cycle type : {res[1]}\", file = f)\n",
    "    print(f\"Elapsed time: {time.time() - start}\")\n",
    "correctness(10)"
   ]
  },
  {
   "cell_type": "code",
   "execution_count": 34,
   "id": "44227750-1ed6-4b50-930c-d003635606ca",
   "metadata": {},
   "outputs": [],
   "source": [
    "with open(\"check_orders_s10.txt\", \"w\") as f:\n",
    "    counter = 0\n",
    "    for order, amount in order_amount(10).items():\n",
    "        print(f\"Order: {order}, number of elements: {amount}\", file = f)\n",
    "        counter += amount"
   ]
  },
  {
   "cell_type": "code",
   "execution_count": null,
   "id": "dad79d44-676c-4d00-bc09-c24744d4e99d",
   "metadata": {},
   "outputs": [],
   "source": []
  }
 ],
 "metadata": {
  "kernelspec": {
   "display_name": "SageMath 10.4",
   "language": "sage",
   "name": "sagemath"
  },
  "language_info": {
   "codemirror_mode": {
    "name": "ipython",
    "version": 3
   },
   "file_extension": ".py",
   "mimetype": "text/x-python",
   "name": "python",
   "nbconvert_exporter": "python",
   "pygments_lexer": "ipython3",
   "version": "3.11.10"
  }
 },
 "nbformat": 4,
 "nbformat_minor": 5
}
