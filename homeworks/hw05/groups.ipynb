{
 "cells": [
  {
   "cell_type": "code",
   "execution_count": 1,
   "id": "a36a34d5-f3d2-44b2-a256-3fb43126e79d",
   "metadata": {},
   "outputs": [
    {
     "name": "stdout",
     "output_type": "stream",
     "text": [
      "1. Group G is infinite, because it has an element of infinite order:\n",
      "a ** n = \n",
      "[1 0 n]\n",
      "[0 1 0]\n",
      "[0 0 1]\n",
      "2. Group G is commutative. It suffices to show that a * b == b * a and a^(-1) * b = b * a^(-1) to prove it.\n",
      "a * b == b * a : True\n",
      "a^(-1) * b == b * a^(-1) : True\n",
      "3. The elements of G :\n",
      "(a ** k) * (b ** n)\n",
      "[1 0 k]\n",
      "[0 1 n]\n",
      "[0 0 1]\n",
      "4. Every element of G but e has an infinite order (follows from 3.)\n",
      "5. G is isomorphic to (Z[i], +) with isomorphism φ: (a ** k) * (b ** n) -> k + ni.\n"
     ]
    }
   ],
   "source": [
    "var('n k')\n",
    "a = matrix(QQ, [[1, 0, 1], [0, 1, 0], [0, 0, 1]])\n",
    "b = matrix(QQ, [[1, 0, 0], [0, 1, 1], [0, 0, 1]])\n",
    "\n",
    "arg1 = a ** n\n",
    "print(\"1. Group G is infinite, because it has an element of infinite order:\")\n",
    "print(\"a ** n = \")\n",
    "print(arg1)\n",
    "print(\"2. Group G is commutative. It suffices to show that a * b == b * a and a^(-1) * b = b * a^(-1) to prove it.\")\n",
    "print(f\"a * b == b * a : {a * b == b * a}\")\n",
    "print(f\"a^(-1) * b == b * a^(-1) : {a ** (-1) * b == b * a ** (-1)}\")\n",
    "print(\"3. The elements of G :\")\n",
    "print(\"(a ** k) * (b ** n)\")\n",
    "print((a ** k) * (b ** n))\n",
    "print(\"4. Every element of G but e has an infinite order (follows from 3.)\")\n",
    "print(\"5. G is isomorphic to (Z[i], +) with isomorphism φ: (a ** k) * (b ** n) -> k + ni.\")"
   ]
  },
  {
   "cell_type": "code",
   "execution_count": 3,
   "id": "3657ac19-57c7-41a5-b94c-529ebe610508",
   "metadata": {},
   "outputs": [
    {
     "name": "stdout",
     "output_type": "stream",
     "text": [
      "Let f be the Fibonacci matrix:\n",
      "[1 1]\n",
      "[1 0]\n",
      "\n",
      "(*) It's easy to notice that a = f^(-2), b = f^3 :\n",
      "a = f^(-2) : True\n",
      "b = f^(3) : True\n",
      "\n",
      "1. Group G is infinite, because it has an element of infinite order:\n",
      "b^n = \n",
      "  F(3n+1)   F(3n)\n",
      "  F(3n)     F(3n-1)\n",
      "2. Group G is commutative. It suffices to show that a * b == b * a and a^(-1) * b = b * a^(-1) to prove it.\n",
      "a * b == b * a : True\n",
      "a^(-1) * b == b * a^(-1) : True\n",
      "3. The elements of G :\n",
      "Follows from (* && 2.) : (a ** n) * (b ** k)  = f ^ (-2n + 3k)\n",
      "4. Every element of G but e has an infinite order.\n",
      "5. G is isomorphic to (2Z x 3Z)/Kerφ where φ: (2Z x 3Z) -> G : (2p, 3m) -> a^p * b^m is an epimorphism with Kerφ = {(6k, 6k) | k ∈ Z}.\n"
     ]
    }
   ],
   "source": [
    "a = matrix(QQ, [[1, -1], [-1, 2]])\n",
    "b = matrix(QQ, [[3, 2], [2, 1]])\n",
    "f = matrix(QQ, [[1, 1], [1, 0]])\n",
    "\n",
    "print(f\"Let f be the Fibonacci matrix:\\n{f}\")\n",
    "print(\"\\n(*) It's easy to notice that a = f^(-2), b = f^3 :\")\n",
    "print(f\"a = f^(-2) : {a == f ** (-2)}\")\n",
    "print(f\"b = f^(3) : {b == f ** (3)}\")\n",
    "print(\"\\n1. Group G is infinite, because it has an element of infinite order:\\nb^n = \")\n",
    "print(table([\n",
    "    ['F(3n+1)', 'F(3n)'],\n",
    "    ['F(3n)', 'F(3n-1)']\n",
    "]))\n",
    "print(\"2. Group G is commutative. It suffices to show that a * b == b * a and a^(-1) * b = b * a^(-1) to prove it.\")\n",
    "print(f\"a * b == b * a : {a * b == b * a}\")\n",
    "print(f\"a^(-1) * b == b * a^(-1) : {a ** (-1) * b == b * a ** (-1)}\")\n",
    "print(\"3. The elements of G :\")\n",
    "print(f\"Follows from (* && 2.) : (a ** n) * (b ** k)  = f ^ (-2n + 3k)\")\n",
    "print(\"4. Every element of G but e has an infinite order.\")\n",
    "print(\"5. G is isomorphic to (2Z x 3Z)/Kerφ where φ: (2Z x 3Z) -> G : (2p, 3m) -> a^p * b^m is an epimorphism with Kerφ = {(6k, 6k) | k ∈ Z}.\")"
   ]
  },
  {
   "cell_type": "code",
   "execution_count": 105,
   "id": "655248d4-1c56-4758-8536-1536e4c5ccd0",
   "metadata": {},
   "outputs": [
    {
     "name": "stdout",
     "output_type": "stream",
     "text": [
      "1. Group G is infinite, because it has an element of infinite order:\n",
      "b ** n = \n",
      "[1 0 n]\n",
      "[0 1 0]\n",
      "[0 0 1]\n",
      "2. Group G is non-commutative. It suffices to show that a * b != b * a to prove it.\n",
      "a * b == b * a : False\n",
      "3. Any element of G can be represented as (a^k) * (b^n), which follows from relation a * b = b^(-1) * a:\n",
      "(a ** k) * (b ** n) = \n",
      "[  (-1)^k        0 (-1)^k*n]\n",
      "[       0        1    1/2*k]\n",
      "[       0        0        1]\n",
      "4. Every element of G but e has an infinite order (follows from equality ((a ** k) * (b ** n)) ** m = e)\n"
     ]
    }
   ],
   "source": [
    "a = matrix(QQ, [[-1, 0, 0], [0, 1, 1/2], [0, 0, 1]])\n",
    "b = matrix(QQ, [[1, 0, 1], [0, 1, 0], [0, 0, 1]])\n",
    "\n",
    "print(\"1. Group G is infinite, because it has an element of infinite order:\")\n",
    "print(\"b ** n = \")\n",
    "print(b ** n)\n",
    "print(\"2. Group G is non-commutative. It suffices to show that a * b != b * a to prove it.\")\n",
    "print(f\"a * b == b * a : {a * b == b * a}\")\n",
    "print(\"3. Any element of G can be represented as (a^k) * (b^n), which follows from relation a * b = b^(-1) * a:\")\n",
    "print(\"(a ** k) * (b ** n) = \")\n",
    "print((a ** k) * (b ** n))\n",
    "print(\"4. Every element of G but e has an infinite order (follows from equality ((a ** k) * (b ** n)) ** m = e)\")"
   ]
  },
  {
   "cell_type": "code",
   "execution_count": 110,
   "id": "afae7745-f93d-4b5d-b968-215c8fcf5baa",
   "metadata": {},
   "outputs": [
    {
     "data": {
      "text/plain": [
       "[             1/2*(m^2 - m)*k + 1 -1/2*((m^2 - m)*k + 2)*k/n + k/n                              k*m]\n",
       "[                 1/2*(m^2 - m)*n             -1/2*(m^2 - m)*k + 1                              m*n]\n",
       "[                               m                           -k*m/n                                1]"
      ]
     },
     "execution_count": 110,
     "metadata": {},
     "output_type": "execute_result"
    }
   ],
   "source": [
    "((a ** k) * (b ** n)) ** m"
   ]
  },
  {
   "cell_type": "code",
   "execution_count": null,
   "id": "051e81a4-ab0c-41b4-9c2f-b6eaf71fdd36",
   "metadata": {},
   "outputs": [],
   "source": []
  }
 ],
 "metadata": {
  "kernelspec": {
   "display_name": "SageMath 10.4",
   "language": "sage",
   "name": "sagemath"
  },
  "language_info": {
   "codemirror_mode": {
    "name": "ipython",
    "version": 3
   },
   "file_extension": ".py",
   "mimetype": "text/x-python",
   "name": "python",
   "nbconvert_exporter": "python",
   "pygments_lexer": "ipython3",
   "version": "3.11.10"
  }
 },
 "nbformat": 4,
 "nbformat_minor": 5
}
