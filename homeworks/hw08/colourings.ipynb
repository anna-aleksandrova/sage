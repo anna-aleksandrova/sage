{
 "cells": [
  {
   "cell_type": "code",
   "execution_count": 26,
   "id": "5537b3e8-b36b-45d0-8f23-96054e63b3b2",
   "metadata": {},
   "outputs": [],
   "source": [
    "import time"
   ]
  },
  {
   "cell_type": "code",
   "execution_count": 27,
   "id": "20e9db88-1e1c-4ac1-ac3f-ec48f45a385d",
   "metadata": {},
   "outputs": [
    {
     "data": {
      "text/plain": [
       "88179840"
      ]
     },
     "execution_count": 27,
     "metadata": {},
     "output_type": "execute_result"
    }
   ],
   "source": [
    "G = SymmetricGroup(24)\n",
    "g1 = G('(1, 10, 20, 11)(2, 16, 19, 5)(23, 24, 22, 21)')\n",
    "g2 = G('(3, 9, 18, 12)(4, 15, 17, 6)(7, 8, 14, 13)')\n",
    "g3 = G('(9, 15, 16, 10)(24, 4, 14, 20)(22, 2, 8, 18)')\n",
    "g4 = G('(18, 17, 19, 20)(15, 13, 11, 22)(14, 12, 21, 16)')\n",
    "g5 = G('(3, 4, 2, 1)(7, 9, 24, 5)(10, 23, 6, 8)')\n",
    "g6 = G('(5, 11, 12, 6)(19, 13, 3, 23)(17, 7, 1, 21)')\n",
    "H = G.subgroup([g1, g2, g3, g4, g5, g6])\n",
    "H.order()"
   ]
  },
  {
   "cell_type": "code",
   "execution_count": 46,
   "id": "3ac9f02c-b191-4b41-a6ce-9e4e4642387f",
   "metadata": {},
   "outputs": [
    {
     "name": "stdout",
     "output_type": "stream",
     "text": [
      "12395526079546335\n",
      "Elapsed time: 0.35871100425720215\n"
     ]
    }
   ],
   "source": [
    "start = time.time()\n",
    "colours = 10\n",
    "cycle_types = {}\n",
    "for cl in H.conjugacy_classes():\n",
    "    temp = cl.representative().cycle_type()\n",
    "    if temp not in cycle_types:\n",
    "        cycle_types[temp] = cl.cardinality()\n",
    "    else:\n",
    "        cycle_types[temp] += cl.cardinality()\n",
    "sum = 0\n",
    "for cycle_type, am in cycle_types.items():\n",
    "    sum += am * colours ** (len(cycle_type))\n",
    "print(sum / H.order())\n",
    "print(f\"Elapsed time: {time.time() - start}\")"
   ]
  },
  {
   "cell_type": "code",
   "execution_count": null,
   "id": "6aad7f49-9d0d-49c0-a0fc-56151c9063e4",
   "metadata": {},
   "outputs": [],
   "source": []
  }
 ],
 "metadata": {
  "kernelspec": {
   "display_name": "SageMath 10.4",
   "language": "sage",
   "name": "sagemath"
  },
  "language_info": {
   "codemirror_mode": {
    "name": "ipython",
    "version": 3
   },
   "file_extension": ".py",
   "mimetype": "text/x-python",
   "name": "python",
   "nbconvert_exporter": "python",
   "pygments_lexer": "ipython3",
   "version": "3.11.10"
  }
 },
 "nbformat": 4,
 "nbformat_minor": 5
}
